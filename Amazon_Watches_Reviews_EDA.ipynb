{
 "cells": [
  {
   "cell_type": "code",
   "execution_count": null,
   "metadata": {},
   "outputs": [],
   "source": [
    "from itertools import chain\n",
    "from pathlib import Path\n",
    "from pprint import pprint\n",
    "\n",
    "import matplotlib.pyplot as plt\n",
    "import numpy as np\n",
    "import pandas as pd\n",
    "import seaborn as sns\n",
    "\n",
    "from bs4 import BeautifulSoup\n",
    "from sklearn import linear_model\n",
    "from sklearn.preprocessing import StandardScaler\n",
    "from sklearn.model_selection import train_test_split\n",
    "from sklearn.metrics import explained_variance_score, mean_absolute_error, r2_score\n",
    "\n",
    "DATA_SETS_FOLDER = Path('.') / '.datasets'\n",
    "\n",
    "%matplotlib inline"
   ]
  },
  {
   "cell_type": "code",
   "execution_count": null,
   "metadata": {},
   "outputs": [],
   "source": [
    "df = pd.read_csv(DATA_SETS_FOLDER / 'amazon_reviews_us_Watches_v1_00.tsv', \n",
    "                 delimiter='\\t',\n",
    "                 error_bad_lines=False)"
   ]
  },
  {
   "cell_type": "code",
   "execution_count": null,
   "metadata": {},
   "outputs": [],
   "source": [
    "# sample top of the dataset\n",
    "df.head()"
   ]
  },
  {
   "cell_type": "code",
   "execution_count": null,
   "metadata": {},
   "outputs": [],
   "source": [
    "df.describe()"
   ]
  },
  {
   "cell_type": "code",
   "execution_count": null,
   "metadata": {},
   "outputs": [],
   "source": [
    "print('Unique Customers: {}'.format(len(df.customer_id.unique())))\n",
    "print('Unique Products: {}'.format(len(df.product_id.unique())))"
   ]
  },
  {
   "cell_type": "code",
   "execution_count": null,
   "metadata": {},
   "outputs": [],
   "source": [
    "# distribution of stars ratings in reviews\n",
    "plt.hist(df.star_rating)\n",
    "plt.xlabel('Star Rating')\n",
    "plt.ylabel('Counts')\n",
    "plt.show()"
   ]
  },
  {
   "cell_type": "code",
   "execution_count": null,
   "metadata": {},
   "outputs": [],
   "source": [
    "# distribution of helpful votes in reviews\n",
    "plt.hist(np.clip(df.helpful_votes, 0, 50))\n",
    "plt.xlabel('Helpful Votes (clipped at 50)')\n",
    "plt.ylabel('Counts')\n",
    "plt.show()"
   ]
  },
  {
   "cell_type": "code",
   "execution_count": null,
   "metadata": {},
   "outputs": [],
   "source": [
    "# distribution of total votes in reviews\n",
    "plt.hist(np.clip(df.total_votes, 0, 50))\n",
    "plt.xlabel('Total Votes (clipped at 50)')\n",
    "plt.ylabel('Counts')\n",
    "plt.show()"
   ]
  },
  {
   "cell_type": "code",
   "execution_count": null,
   "metadata": {},
   "outputs": [],
   "source": [
    "# this cell will take some time to run (plotting all values in correlation matrix)\n",
    "pd.plotting.scatter_matrix(df[['star_rating', 'helpful_votes', 'total_votes']], figsize=(6, 6))\n",
    "plt.show()"
   ]
  },
  {
   "cell_type": "code",
   "execution_count": null,
   "metadata": {},
   "outputs": [],
   "source": [
    "# top star_rating with no filter\n",
    "df.groupby('product_id').agg(['mean', 'count']).sort_values([('star_rating', 'mean')], ascending=False).head(10)"
   ]
  },
  {
   "cell_type": "code",
   "execution_count": null,
   "metadata": {},
   "outputs": [],
   "source": [
    "# Review date range\n",
    "min_review_date = pd.to_datetime(df.review_date).min()\n",
    "max_review_date = pd.to_datetime(df.review_date).max()\n",
    "\"Reviews are from {} to {}\".format(min_review_date, max_review_date)"
   ]
  },
  {
   "cell_type": "code",
   "execution_count": null,
   "metadata": {},
   "outputs": [],
   "source": [
    "# Top Tier: Products that appear at the very top of rankings\n",
    "top_tier_search_sources = [\n",
    "    'fashion-mens-watches-pg1.html',\n",
    "    'fashion-mens-watches-pg2.html',\n",
    "    'fashion-mens-watches-pg3.html',\n",
    "]\n",
    "\n",
    "# High Tier: Products that appear between Top Tier and Mid Tier of rankings\n",
    "high_tier_search_sources = [\n",
    "    'fashion-mens-watches-pg100.html',\n",
    "    'fashion-mens-watches-pg101.html',\n",
    "    'fashion-mens-watches-pg102.html',\n",
    "]\n",
    "\n",
    "# Mid Tier: Products that appear at the middle of rankings\n",
    "mid_tier_search_sources = [\n",
    "    'fashion-mens-watches-pg200.html',\n",
    "    'fashion-mens-watches-pg201.html',\n",
    "    'fashion-mens-watches-pg202.html',\n",
    "]\n",
    "\n",
    "# Low Tier: Products that appear between Mid Tier and Bottom Tier of rankings\n",
    "low_tier_search_sources = [\n",
    "    'fashion-mens-watches-pg300.html',\n",
    "    'fashion-mens-watches-pg301.html',\n",
    "    'fashion-mens-watches-pg302.html',\n",
    "]\n",
    "\n",
    "# Bottom Tier: Products that appear at the bottom of rankings\n",
    "bottom_tier_search_sources = [\n",
    "    'fashion-mens-watches-pg398.html',\n",
    "    'fashion-mens-watches-pg399.html',\n",
    "    'fashion-mens-watches-pg400.html',\n",
    "]"
   ]
  },
  {
   "cell_type": "code",
   "execution_count": null,
   "metadata": {},
   "outputs": [],
   "source": [
    "def get_product_ids_from_html(filepath):\n",
    "    \"\"\" Function reads search results html source and returns the Amazon product_ids found \"\"\"\n",
    "    with open(filepath, 'r') as content_file:\n",
    "        content = content_file.read()\n",
    "\n",
    "    soup = BeautifulSoup(content, 'html.parser')\n",
    "    product_ids = []\n",
    "    item_sections = soup.select('[data-component-type=\"s-search-results\"] div[data-asin]')\n",
    "    nonsponsored_item_sections = [item_section for item_section in item_sections \n",
    "                                  if str(item_section).find('Sponsored') < 0]\n",
    "    product_ids = [item.get('data-asin') for item in nonsponsored_item_sections]\n",
    "    return product_ids\n",
    "\n",
    "def get_tier_product_ids(html_files):\n",
    "    \"\"\" Returns product_ids from tier search sources (HTML files) \"\"\"\n",
    "    return chain.from_iterable(get_product_ids_from_html(Path('.') / 'RankingData' / 'AmazonSearchWatches' / file) for file in html_files)\n",
    "\n",
    "\n",
    "\n",
    "\n",
    "\n"
   ]
  },
  {
   "cell_type": "code",
   "execution_count": null,
   "metadata": {},
   "outputs": [],
   "source": [
    "# Get product_ids for each tier\n",
    "top_tier_product_ids = get_tier_product_ids(top_tier_search_sources)\n",
    "high_tier_product_ids = get_tier_product_ids(high_tier_search_sources)\n",
    "mid_tier_product_ids = get_tier_product_ids(mid_tier_search_sources)\n",
    "low_tier_product_ids = get_tier_product_ids(low_tier_search_sources)\n",
    "bottom_tier_product_ids = get_tier_product_ids(bottom_tier_search_sources)"
   ]
  },
  {
   "cell_type": "code",
   "execution_count": null,
   "metadata": {},
   "outputs": [],
   "source": [
    "# Display samples from top tier\n",
    "top_tier_df = df[df.product_id.isin(top_tier_product_ids)].groupby('product_id').agg(['mean', 'count'])\n",
    "top_tier_df.sample(10)"
   ]
  },
  {
   "cell_type": "code",
   "execution_count": null,
   "metadata": {},
   "outputs": [],
   "source": [
    "# Display samples from high tier\n",
    "high_tier_df = df[df.product_id.isin(high_tier_product_ids)].groupby('product_id').agg(['mean', 'count'])\n",
    "high_tier_df.sample(10)"
   ]
  },
  {
   "cell_type": "code",
   "execution_count": null,
   "metadata": {},
   "outputs": [],
   "source": [
    "# Display samples from mid tier\n",
    "mid_tier_df = df[df.product_id.isin(mid_tier_product_ids)].groupby('product_id').agg(['mean', 'count'])\n",
    "mid_tier_df.sample(10)"
   ]
  },
  {
   "cell_type": "code",
   "execution_count": null,
   "metadata": {},
   "outputs": [],
   "source": [
    "# Display samples from low tier\n",
    "low_tier_df = df[df.product_id.isin(low_tier_product_ids)].groupby('product_id').agg(['mean', 'count'])\n",
    "low_tier_df.sample(10)"
   ]
  },
  {
   "cell_type": "code",
   "execution_count": null,
   "metadata": {
    "scrolled": true
   },
   "outputs": [],
   "source": [
    "# Display samples from bottom tier\n",
    "bottom_tier_df = df[df.product_id.isin(bottom_tier_product_ids)].groupby('product_id').agg(['mean', 'count'])\n",
    "bottom_tier_df.sample(10)"
   ]
  },
  {
   "cell_type": "code",
   "execution_count": null,
   "metadata": {},
   "outputs": [],
   "source": [
    "def remove_column_hierarchy(tier_df):\n",
    "    tier_df = tier_df.copy()\n",
    "    tier_df.reset_index(inplace=True)\n",
    "    tier_df.columns = [\"_\".join(c).strip('_') for c in tier_df.columns]\n",
    "    return tier_df\n",
    "\n",
    "def add_target(tier_df, target_value, tier):\n",
    "    tier_df = tier_df.copy()\n",
    "    tier_df['target'] = target_value\n",
    "    tier_df['tier'] = tier\n",
    "    return tier_df\n",
    "\n",
    "top_tier_dataset = add_target(remove_column_hierarchy(top_tier_df), 5., 'Top Tier')\n",
    "high_tier_dataset = add_target(remove_column_hierarchy(high_tier_df), 4., 'High Tier')\n",
    "mid_tier_dataset = add_target(remove_column_hierarchy(mid_tier_df), 3., 'Mid Tier')\n",
    "low_tier_dataset = add_target(remove_column_hierarchy(low_tier_df), 2., 'Low Tier')\n",
    "bottom_tier_dataset = add_target(remove_column_hierarchy(bottom_tier_df), 1., 'Bottom Tier')"
   ]
  },
  {
   "cell_type": "code",
   "execution_count": null,
   "metadata": {},
   "outputs": [],
   "source": [
    "# create a training dataset\n",
    "tier_training_dataset = pd.concat([top_tier_dataset, \n",
    "                                   high_tier_dataset,\n",
    "                                   mid_tier_dataset,\n",
    "                                   low_tier_dataset,\n",
    "                                   bottom_tier_dataset])\n",
    "\n",
    "tier_training_dataset.sample(10)"
   ]
  },
  {
   "cell_type": "code",
   "execution_count": null,
   "metadata": {},
   "outputs": [],
   "source": [
    "# distribution of stars ratings in reviews\n",
    "# plt.hist(tier_training_dataset)\n",
    "# plt.xlabel('Star Rating')\n",
    "# plt.ylabel('Counts')\n",
    "\n",
    "# sns.catplot(x=\"who\", y=\"survived\", col=\"class\",\n",
    "#                  data=titanic, saturation=.5,\n",
    "#                  kind=\"bar\", ci=None, aspect=.6)\n",
    "\n",
    "tier_training_dataset['star_rating_mean_rounded'] = tier_training_dataset['star_rating_mean'].round()\n",
    "\n",
    "g = sns.catplot(\"star_rating_mean_rounded\", col=\"tier\",\n",
    "                 data=tier_training_dataset,\n",
    "                 kind=\"count\", height=2.5, aspect=.8)\n",
    "\n",
    "plt.show()"
   ]
  },
  {
   "cell_type": "code",
   "execution_count": null,
   "metadata": {},
   "outputs": [],
   "source": [
    "# select feature and target columns\n",
    "training_features = ['customer_id_count', 'star_rating_mean', 'helpful_votes_mean', 'total_votes_mean']\n",
    "training_target = ['target']\n",
    "\n",
    "# scale input variables\n",
    "scaler = StandardScaler()\n",
    "scaler.fit(tier_training_dataset[training_features])\n",
    "X = scaler.transform(tier_training_dataset[training_features])\n",
    "y = tier_training_dataset[training_target]\n",
    "\n",
    "X_train, X_test, y_train, y_test = train_test_split(X, y, test_size=0.2, random_state=42)\n",
    "\n",
    "# train a model to learn from the dataset\n",
    "lasso = linear_model.Lasso(alpha=0.01)\n",
    "lasso.fit(X_train,y_train)\n",
    "train_score=lasso.score(X_train,y_train)\n",
    "test_score=lasso.score(X_test,y_test)\n",
    "coeff_used = np.sum(lasso.coef_!=0)\n",
    "print(\"training score:\", train_score)\n",
    "print(\"test score: \", test_score)\n",
    "print(\"number of features used: \", coeff_used)\n",
    "\n",
    "# print best features\n",
    "print(\"\\ntop features:\")\n",
    "for coef in reversed(sorted(lasso.coef_)):\n",
    "    if coef > 0:\n",
    "        coef_index = list(lasso.coef_).index(coef)\n",
    "        print(\"{} ({})\".format(training_features[coef_index], coef))"
   ]
  },
  {
   "cell_type": "code",
   "execution_count": null,
   "metadata": {},
   "outputs": [],
   "source": [
    "# Sample Predictions\n",
    "predicted_values = np.clip(lasso.predict(X_test), 1., 5.)\n",
    "predictions = np.array(list(zip(predicted_values, y_test.as_matrix().reshape(-1,))))\n",
    "predictions[:10]"
   ]
  },
  {
   "cell_type": "code",
   "execution_count": null,
   "metadata": {},
   "outputs": [],
   "source": [
    "pred_train = lasso.predict(X_train)\n",
    "plt.scatter(pred_train, y_train)\n",
    "plt.plot([.5,5.5], [.5, 5.5], alpha=.5)\n",
    "plt.xlabel('Predicted')\n",
    "plt.ylabel('Actual')\n",
    "plt.xlim([.5, 5.5])\n",
    "plt.ylim([.5, 5.5])\n",
    "plt.show()"
   ]
  },
  {
   "cell_type": "code",
   "execution_count": null,
   "metadata": {},
   "outputs": [],
   "source": [
    "plt.scatter(predictions[:,0], predictions[:,1])\n",
    "plt.plot([.5,5.5], [.5, 5.5], alpha=.5)\n",
    "plt.xlabel('Predicted')\n",
    "plt.ylabel('Actual')\n",
    "plt.xlim([.5, 5.5])\n",
    "plt.ylim([.5, 5.5])\n",
    "plt.show()"
   ]
  },
  {
   "cell_type": "code",
   "execution_count": null,
   "metadata": {},
   "outputs": [],
   "source": [
    "regression_metrics = explained_variance_score, mean_absolute_error, r2_score\n",
    "\n",
    "for metric in regression_metrics:\n",
    "    print(metric)\n",
    "    pred_train = lasso.predict(X_train)\n",
    "    print(metric(y_train, pred_train))\n",
    "\n",
    "    pred_test = lasso.predict(X_test)\n",
    "    print(metric(y_test, pred_test))"
   ]
  },
  {
   "cell_type": "code",
   "execution_count": null,
   "metadata": {},
   "outputs": [],
   "source": [
    "tier_training_dataset.to_csv(Path('.') / '.datasets' / 'amzn_search_watches_train.csv', index=False)"
   ]
  },
  {
   "cell_type": "code",
   "execution_count": null,
   "metadata": {},
   "outputs": [],
   "source": []
  }
 ],
 "metadata": {
  "kernelspec": {
   "display_name": "Python 3",
   "language": "python",
   "name": "python3"
  },
  "language_info": {
   "codemirror_mode": {
    "name": "ipython",
    "version": 3
   },
   "file_extension": ".py",
   "mimetype": "text/x-python",
   "name": "python",
   "nbconvert_exporter": "python",
   "pygments_lexer": "ipython3",
   "version": "3.6.7"
  }
 },
 "nbformat": 4,
 "nbformat_minor": 1
}
