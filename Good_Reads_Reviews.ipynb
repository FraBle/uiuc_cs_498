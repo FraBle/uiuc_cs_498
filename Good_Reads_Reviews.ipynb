{
 "cells": [
  {
   "cell_type": "code",
   "execution_count": null,
   "metadata": {},
   "outputs": [],
   "source": [
    "from pathlib import Path\n",
    "\n",
    "import matplotlib.pyplot as plt\n",
    "import numpy as np\n",
    "import pandas as pd\n",
    "\n",
    "BOOK_DATA = Path('.') / 'RankingData' / 'GoodBooks10k' / 'books.csv'\n",
    "BOOK_REVIEWS = Path('.') / '.datasets' / 'amazon_reviews_us_Books_v1_01.tsv'\n",
    "\n",
    "\n",
    "%matplotlib inline"
   ]
  },
  {
   "cell_type": "code",
   "execution_count": null,
   "metadata": {},
   "outputs": [],
   "source": [
    "books = pd.read_csv(BOOK_DATA)\n",
    "books.sort_values('average_rating')"
   ]
  },
  {
   "cell_type": "code",
   "execution_count": null,
   "metadata": {},
   "outputs": [],
   "source": [
    "books.columns"
   ]
  },
  {
   "cell_type": "code",
   "execution_count": null,
   "metadata": {},
   "outputs": [],
   "source": [
    "amzn = pd.read_csv(BOOK_REVIEWS, delimiter='\\t', error_bad_lines=False)\n",
    "amzn"
   ]
  },
  {
   "cell_type": "code",
   "execution_count": null,
   "metadata": {},
   "outputs": [],
   "source": [
    "amzn['star_rating'] = pd.to_numeric(amzn.star_rating, errors='coerce')\n",
    "amzn.dropna(subset=['star_rating'], inplace=True)"
   ]
  },
  {
   "cell_type": "code",
   "execution_count": null,
   "metadata": {},
   "outputs": [],
   "source": [
    "amzn_product_titles = amzn.product_title.unique()\n",
    "matching_titles = books[books.title.isin(amzn_product_titles)]"
   ]
  },
  {
   "cell_type": "code",
   "execution_count": null,
   "metadata": {},
   "outputs": [],
   "source": [
    "plt.hist(matching_titles.average_rating)\n",
    "plt.show()"
   ]
  },
  {
   "cell_type": "code",
   "execution_count": null,
   "metadata": {},
   "outputs": [],
   "source": [
    "matching_titles.ratings_count.describe()"
   ]
  },
  {
   "cell_type": "code",
   "execution_count": null,
   "metadata": {},
   "outputs": [],
   "source": [
    "matching_titles['percentile_rank'] = matching_titles.average_rating.rank(pct=True)\n",
    "matching_titles"
   ]
  },
  {
   "cell_type": "code",
   "execution_count": null,
   "metadata": {},
   "outputs": [],
   "source": [
    "matching_titles.columns"
   ]
  },
  {
   "cell_type": "code",
   "execution_count": null,
   "metadata": {},
   "outputs": [],
   "source": [
    "amzn_df = amzn[amzn.product_title.isin(matching_titles.title)].groupby('product_title').agg(['mean', 'count'])"
   ]
  },
  {
   "cell_type": "code",
   "execution_count": null,
   "metadata": {},
   "outputs": [],
   "source": [
    "def remove_column_hierarchy(tier_df):\n",
    "    tier_df = tier_df.copy()\n",
    "    tier_df.reset_index(inplace=True)\n",
    "    tier_df.columns = [\"_\".join(c).strip('_') for c in tier_df.columns]\n",
    "    return tier_df\n",
    "\n",
    "def add_target(tier_df, target_value, tier):\n",
    "    tier_df = tier_df.copy()\n",
    "    tier_df['target'] = target_value\n",
    "    tier_df['tier'] = tier\n",
    "    return tier_df\n",
    "\n",
    "pd.merge(remove_column_hierarchy(amzn_df), matching_titles, left_on=['product_title'], right_on=['title']).sort_values('percentile_rank')"
   ]
  },
  {
   "cell_type": "code",
   "execution_count": null,
   "metadata": {},
   "outputs": [],
   "source": []
  }
 ],
 "metadata": {
  "kernelspec": {
   "display_name": "Python 3",
   "language": "python",
   "name": "python3"
  },
  "language_info": {
   "codemirror_mode": {
    "name": "ipython",
    "version": 3
   },
   "file_extension": ".py",
   "mimetype": "text/x-python",
   "name": "python",
   "nbconvert_exporter": "python",
   "pygments_lexer": "ipython3",
   "version": "3.6.7"
  }
 },
 "nbformat": 4,
 "nbformat_minor": 1
}
